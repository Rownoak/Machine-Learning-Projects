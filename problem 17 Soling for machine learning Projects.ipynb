{
 "cells": [
  {
   "cell_type": "code",
   "execution_count": null,
   "id": "08ab9766",
   "metadata": {},
   "outputs": [],
   "source": [
    "#Change the value of a key in a given dictionary. Write a Python program to change ‘age’ to 28 in the following dictionary. Dict = { \"name\": \"Shakil\", \"age\":27, \"city\": “Berlin”, \"country\": \"Germany\" }"
   ]
  },
  {
   "cell_type": "code",
   "execution_count": 1,
   "id": "0ce08b99",
   "metadata": {},
   "outputs": [
    {
     "name": "stdout",
     "output_type": "stream",
     "text": [
      "Original Dictionary: {'name': 'Shakil', 'age': 27, 'city': 'Berlin', 'country': 'Germany'}\n",
      "Updated Dictionary: {'name': 'Shakil', 'age': 28, 'city': 'Berlin', 'country': 'Germany'}\n"
     ]
    }
   ],
   "source": [
    "Dict = { 'name': 'Shakil', 'age':27, 'city': 'Berlin', 'country': 'Germany' }\n",
    "print('Original Dictionary:', Dict)\n",
    "\n",
    "Dict['age']= 28\n",
    "print('Updated Dictionary:', Dict)"
   ]
  },
  {
   "cell_type": "code",
   "execution_count": null,
   "id": "a4853582",
   "metadata": {},
   "outputs": [],
   "source": []
  }
 ],
 "metadata": {
  "kernelspec": {
   "display_name": "Python 3 (ipykernel)",
   "language": "python",
   "name": "python3"
  },
  "language_info": {
   "codemirror_mode": {
    "name": "ipython",
    "version": 3
   },
   "file_extension": ".py",
   "mimetype": "text/x-python",
   "name": "python",
   "nbconvert_exporter": "python",
   "pygments_lexer": "ipython3",
   "version": "3.10.9"
  }
 },
 "nbformat": 4,
 "nbformat_minor": 5
}
