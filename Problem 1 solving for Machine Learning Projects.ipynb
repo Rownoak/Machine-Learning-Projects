{
 "cells": [
  {
   "cell_type": "code",
   "execution_count": null,
   "id": "36c6360e",
   "metadata": {},
   "outputs": [],
   "source": [
    "#Take values of the length & breadth of a rectangle from user input and check if it is square or not."
   ]
  },
  {
   "cell_type": "code",
   "execution_count": 1,
   "id": "b75d32bf",
   "metadata": {},
   "outputs": [
    {
     "name": "stdout",
     "output_type": "stream",
     "text": [
      "Enter Value of Length: 6\n",
      "6\n",
      "Enter Value of Breadth: 6\n",
      "6\n",
      "Square\n"
     ]
    }
   ],
   "source": [
    "length = input(\"Enter Value of Length: \")\n",
    "print(length)\n",
    "\n",
    "breadth = input(\"Enter Value of Breadth: \")\n",
    "print(breadth)\n",
    "if length == breadth:\n",
    "  print(\"Square\")\n",
    "else:\n",
    "  print(\"Not Square\")"
   ]
  },
  {
   "cell_type": "code",
   "execution_count": null,
   "id": "a0b78c14",
   "metadata": {},
   "outputs": [],
   "source": []
  },
  {
   "cell_type": "code",
   "execution_count": null,
   "id": "3b7496c0",
   "metadata": {},
   "outputs": [],
   "source": []
  }
 ],
 "metadata": {
  "kernelspec": {
   "display_name": "Python 3 (ipykernel)",
   "language": "python",
   "name": "python3"
  },
  "language_info": {
   "codemirror_mode": {
    "name": "ipython",
    "version": 3
   },
   "file_extension": ".py",
   "mimetype": "text/x-python",
   "name": "python",
   "nbconvert_exporter": "python",
   "pygments_lexer": "ipython3",
   "version": "3.10.9"
  }
 },
 "nbformat": 4,
 "nbformat_minor": 5
}
