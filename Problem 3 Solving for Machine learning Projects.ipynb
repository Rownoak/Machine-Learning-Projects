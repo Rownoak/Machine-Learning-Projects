{
 "cells": [
  {
   "cell_type": "code",
   "execution_count": null,
   "id": "870c2f21",
   "metadata": {},
   "outputs": [],
   "source": [
    "#A student will not be allowed to sit in an exam if his/her attendance is less than 75%"
   ]
  },
  {
   "cell_type": "code",
   "execution_count": 1,
   "id": "2b4da290",
   "metadata": {},
   "outputs": [
    {
     "name": "stdout",
     "output_type": "stream",
     "text": [
      "Enter the value of attendance percentage: 60\n",
      "Not allowed to sit for exam.\n"
     ]
    }
   ],
   "source": [
    "attendence =float(input('Enter the value of attendance percentage: '))\n",
    "\n",
    "if attendence<75:\n",
    "  print('Not allowed to sit for exam.')\n",
    "else:\n",
    "  print('Allowed to sit for exam.')"
   ]
  },
  {
   "cell_type": "code",
   "execution_count": null,
   "id": "e4ab3cf5",
   "metadata": {},
   "outputs": [],
   "source": []
  }
 ],
 "metadata": {
  "kernelspec": {
   "display_name": "Python 3 (ipykernel)",
   "language": "python",
   "name": "python3"
  },
  "language_info": {
   "codemirror_mode": {
    "name": "ipython",
    "version": 3
   },
   "file_extension": ".py",
   "mimetype": "text/x-python",
   "name": "python",
   "nbconvert_exporter": "python",
   "pygments_lexer": "ipython3",
   "version": "3.10.9"
  }
 },
 "nbformat": 4,
 "nbformat_minor": 5
}
