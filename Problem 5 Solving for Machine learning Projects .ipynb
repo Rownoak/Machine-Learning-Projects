{
 "cells": [
  {
   "cell_type": "code",
   "execution_count": null,
   "id": "86757c70",
   "metadata": {},
   "outputs": [],
   "source": [
    "#Print the following pattern using for and while loop. 1 2 3 4 5 6 7 1 2 3 4 5 6 1 2 3 4 5 1 2 3 4"
   ]
  },
  {
   "cell_type": "code",
   "execution_count": 1,
   "id": "50a068c3",
   "metadata": {},
   "outputs": [
    {
     "name": "stdout",
     "output_type": "stream",
     "text": [
      "1 2 3 4 5 6 7 \n",
      "1 2 3 4 5 6 \n",
      "1 2 3 4 5 \n",
      "1 2 3 4 \n",
      "1 2 3 4 5 6 7 \n",
      "1 2 3 4 5 6 \n",
      "1 2 3 4 5 \n",
      "1 2 3 4 \n"
     ]
    }
   ],
   "source": [
    "for i in range(7, 3, -1):\n",
    "    for j in range(1, i + 1, 1):\n",
    "        print(j, end=\" \")\n",
    "    print()\n",
    "\n",
    "i=7\n",
    "while i>3:\n",
    "  j=1\n",
    "  while j<=i:\n",
    "    print(j, end=\" \")\n",
    "    j=j+1\n",
    "  print()\n",
    "  i=i-1"
   ]
  },
  {
   "cell_type": "code",
   "execution_count": null,
   "id": "562f62c0",
   "metadata": {},
   "outputs": [],
   "source": []
  }
 ],
 "metadata": {
  "kernelspec": {
   "display_name": "Python 3 (ipykernel)",
   "language": "python",
   "name": "python3"
  },
  "language_info": {
   "codemirror_mode": {
    "name": "ipython",
    "version": 3
   },
   "file_extension": ".py",
   "mimetype": "text/x-python",
   "name": "python",
   "nbconvert_exporter": "python",
   "pygments_lexer": "ipython3",
   "version": "3.10.9"
  }
 },
 "nbformat": 4,
 "nbformat_minor": 5
}
