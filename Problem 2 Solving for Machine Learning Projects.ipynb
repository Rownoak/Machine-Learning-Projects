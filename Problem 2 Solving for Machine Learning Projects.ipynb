{
 "cells": [
  {
   "cell_type": "code",
   "execution_count": null,
   "id": "887a10e0",
   "metadata": {},
   "outputs": [],
   "source": [
    "#2. Take three integer values from the user and print the greatest among them."
   ]
  },
  {
   "cell_type": "code",
   "execution_count": 1,
   "id": "43734d9e",
   "metadata": {},
   "outputs": [
    {
     "name": "stdout",
     "output_type": "stream",
     "text": [
      "Enter the Value of the First Integer:10\n",
      "Enter the Value of the Second Integer:6\n",
      "Enter the Value of the Third Integer:4\n",
      "10\n",
      "6\n",
      "4\n",
      "Num1 is the greatest.\n"
     ]
    }
   ],
   "source": [
    "num1=int(input('Enter the Value of the First Integer:'))\n",
    "\n",
    "num2=int(input('Enter the Value of the Second Integer:'))\n",
    "\n",
    "num3=int(input('Enter the Value of the Third Integer:'))\n",
    "print(num1)\n",
    "print(num2)\n",
    "print(num3)\n",
    "\n",
    "if num1>num2 and num1>num3:\n",
    "  print('Num1 is the greatest.')\n",
    "elif num2>num1 and num2>num3:\n",
    "  print('Num2 is the greatest.')\n",
    "else:\n",
    "  print('Num3 is the greatest.')"
   ]
  },
  {
   "cell_type": "code",
   "execution_count": null,
   "id": "dd20e54a",
   "metadata": {},
   "outputs": [],
   "source": []
  }
 ],
 "metadata": {
  "kernelspec": {
   "display_name": "Python 3 (ipykernel)",
   "language": "python",
   "name": "python3"
  },
  "language_info": {
   "codemirror_mode": {
    "name": "ipython",
    "version": 3
   },
   "file_extension": ".py",
   "mimetype": "text/x-python",
   "name": "python",
   "nbconvert_exporter": "python",
   "pygments_lexer": "ipython3",
   "version": "3.10.9"
  }
 },
 "nbformat": 4,
 "nbformat_minor": 5
}
