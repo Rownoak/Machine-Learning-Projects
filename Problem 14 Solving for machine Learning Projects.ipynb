{
 "cells": [
  {
   "cell_type": "code",
   "execution_count": 3,
   "id": "e2f281e8",
   "metadata": {},
   "outputs": [],
   "source": [
    "#Input a list from the user then Remove duplicates from a list and create a set and find the max number. User_input = [1,9,3,4,5,200,54]"
   ]
  },
  {
   "cell_type": "code",
   "execution_count": 4,
   "id": "a934a759",
   "metadata": {},
   "outputs": [
    {
     "name": "stdout",
     "output_type": "stream",
     "text": [
      "Input a list separated by comma: 1,9,3,4,5,200,54\n",
      "After removing the duplicates from the list: {1, 3, 4, 5, 54, 200, 9}\n",
      "The max number from the list: 200\n"
     ]
    }
   ],
   "source": [
    "num=input('Input a list separated by comma: ')\n",
    "num_list={int(x) for x in num. split(',')}\n",
    "\n",
    "unique_num=set(num_list)\n",
    "max_num=max(num_list)\n",
    "\n",
    "print('After removing the duplicates from the list:', unique_num)\n",
    "print('The max number from the list:', max_num)"
   ]
  },
  {
   "cell_type": "code",
   "execution_count": null,
   "id": "bc7bec7a",
   "metadata": {},
   "outputs": [],
   "source": []
  }
 ],
 "metadata": {
  "kernelspec": {
   "display_name": "Python 3 (ipykernel)",
   "language": "python",
   "name": "python3"
  },
  "language_info": {
   "codemirror_mode": {
    "name": "ipython",
    "version": 3
   },
   "file_extension": ".py",
   "mimetype": "text/x-python",
   "name": "python",
   "nbconvert_exporter": "python",
   "pygments_lexer": "ipython3",
   "version": "3.10.9"
  }
 },
 "nbformat": 4,
 "nbformat_minor": 5
}
