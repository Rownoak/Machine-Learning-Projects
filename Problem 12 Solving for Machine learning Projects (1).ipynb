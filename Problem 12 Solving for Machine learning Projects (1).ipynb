{
 "cells": [
  {
   "cell_type": "code",
   "execution_count": null,
   "id": "388d1d9b",
   "metadata": {},
   "outputs": [],
   "source": [
    "#Remove 2 and add 3 to the list and replace True with False. Li = [1,3,5, [2,3], True] Output = [1,3,5, [3,3], False]"
   ]
  },
  {
   "cell_type": "code",
   "execution_count": null,
   "id": "6145b3c5",
   "metadata": {},
   "outputs": [],
   "source": [
    "li=[1,3,5,[2,3], True]"
   ]
  },
  {
   "cell_type": "code",
   "execution_count": 2,
   "id": "2df82754",
   "metadata": {},
   "outputs": [
    {
     "name": "stdout",
     "output_type": "stream",
     "text": [
      "[1, 3, 5, [3, 3], False]\n"
     ]
    }
   ],
   "source": [
    "\n",
    " Li = [1,3,5, [2,3], True]\n",
    "\n",
    " Li[3][0]=3\n",
    " Li[4]=False\n",
    " #Li[-1]=False\n",
    "\n",
    " print(Li)"
   ]
  },
  {
   "cell_type": "code",
   "execution_count": null,
   "id": "d5a5af93",
   "metadata": {},
   "outputs": [],
   "source": []
  }
 ],
 "metadata": {
  "kernelspec": {
   "display_name": "Python 3 (ipykernel)",
   "language": "python",
   "name": "python3"
  },
  "language_info": {
   "codemirror_mode": {
    "name": "ipython",
    "version": 3
   },
   "file_extension": ".py",
   "mimetype": "text/x-python",
   "name": "python",
   "nbconvert_exporter": "python",
   "pygments_lexer": "ipython3",
   "version": "3.10.9"
  }
 },
 "nbformat": 4,
 "nbformat_minor": 5
}
