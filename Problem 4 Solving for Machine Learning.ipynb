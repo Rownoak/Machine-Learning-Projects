{
 "cells": [
  {
   "cell_type": "code",
   "execution_count": null,
   "id": "4c36ee2e",
   "metadata": {},
   "outputs": [],
   "source": [
    "#A school has the following rules for the grading system: Below 25 – F, 25 to 44 – E, 45 to 49 – D, 50 to 59 – C, 60 to 79 – B, 80 to 89 - A, Above 90 - A+ Now, Ask the user to enter marks and print the corresponding grade."
   ]
  },
  {
   "cell_type": "code",
   "execution_count": 1,
   "id": "e8ae0f94",
   "metadata": {},
   "outputs": [
    {
     "name": "stdout",
     "output_type": "stream",
     "text": [
      "Enter the mark:89\n",
      "A\n"
     ]
    }
   ],
   "source": [
    "marks=float(input('Enter the mark:'))\n",
    "if marks<25:\n",
    "    print(\"F\")\n",
    "elif marks>=25 and marks<=44:\n",
    "    print('E')\n",
    "elif marks>=45 and marks<=49:\n",
    "    print('D')\n",
    "elif marks>=50 and marks<=59:\n",
    "  print('C')\n",
    "elif marks>=60 and marks<=79:\n",
    "  print('B')\n",
    "elif marks>=80 and marks<=89:\n",
    "  print('A')\n",
    "elif marks>90:\n",
    "  print('A+')"
   ]
  },
  {
   "cell_type": "code",
   "execution_count": null,
   "id": "22d939a0",
   "metadata": {},
   "outputs": [],
   "source": []
  }
 ],
 "metadata": {
  "kernelspec": {
   "display_name": "Python 3 (ipykernel)",
   "language": "python",
   "name": "python3"
  },
  "language_info": {
   "codemirror_mode": {
    "name": "ipython",
    "version": 3
   },
   "file_extension": ".py",
   "mimetype": "text/x-python",
   "name": "python",
   "nbconvert_exporter": "python",
   "pygments_lexer": "ipython3",
   "version": "3.10.9"
  }
 },
 "nbformat": 4,
 "nbformat_minor": 5
}
