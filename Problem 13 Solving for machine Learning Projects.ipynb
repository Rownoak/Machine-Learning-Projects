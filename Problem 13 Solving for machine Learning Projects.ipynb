{
 "cells": [
  {
   "cell_type": "code",
   "execution_count": null,
   "id": "5ccc71e8",
   "metadata": {},
   "outputs": [],
   "source": [
    "\n",
    "#Find the intersection (common) of two sets. S1 = {1,4,6,8} S2 = {True, 1,2,10}"
   ]
  },
  {
   "cell_type": "code",
   "execution_count": 5,
   "id": "de4dbf6e",
   "metadata": {},
   "outputs": [
    {
     "name": "stdout",
     "output_type": "stream",
     "text": [
      "{1}\n"
     ]
    }
   ],
   "source": [
    "#Using & Operator\n",
    "S1 = {1,4,6,8} \n",
    "S2 = { 1,2,10,True,}\n",
    "print(S1 & S2 )"
   ]
  },
  {
   "cell_type": "code",
   "execution_count": 6,
   "id": "aa43f147",
   "metadata": {},
   "outputs": [
    {
     "name": "stdout",
     "output_type": "stream",
     "text": [
      "{1}\n"
     ]
    }
   ],
   "source": [
    "# Using Intersection Method\n",
    "S1 = {1,4,6,8} \n",
    "S2 = {True, 1,2,10}\n",
    "\n",
    "common=S1.intersection(S2)\n",
    "common_int= {int(x) for x in common} # Convert the elements to integers\n",
    "print(common_int)\n"
   ]
  },
  {
   "cell_type": "code",
   "execution_count": null,
   "id": "e2f644ad",
   "metadata": {},
   "outputs": [],
   "source": []
  },
  {
   "cell_type": "code",
   "execution_count": null,
   "id": "9a5e0278",
   "metadata": {},
   "outputs": [],
   "source": []
  }
 ],
 "metadata": {
  "kernelspec": {
   "display_name": "Python 3 (ipykernel)",
   "language": "python",
   "name": "python3"
  },
  "language_info": {
   "codemirror_mode": {
    "name": "ipython",
    "version": 3
   },
   "file_extension": ".py",
   "mimetype": "text/x-python",
   "name": "python",
   "nbconvert_exporter": "python",
   "pygments_lexer": "ipython3",
   "version": "3.10.9"
  }
 },
 "nbformat": 4,
 "nbformat_minor": 5
}
