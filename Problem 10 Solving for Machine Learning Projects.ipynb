{
 "cells": [
  {
   "cell_type": "code",
   "execution_count": null,
   "id": "2debcdc0",
   "metadata": {},
   "outputs": [],
   "source": [
    "#Print the following pattern using for and while loop."
   ]
  },
  {
   "cell_type": "code",
   "execution_count": null,
   "id": "d66bb29d",
   "metadata": {},
   "outputs": [],
   "source": [
    "###\n",
    "####\n",
    "###\n",
    "##"
   ]
  },
  {
   "cell_type": "code",
   "execution_count": 1,
   "id": "ee9bcce0",
   "metadata": {},
   "outputs": [
    {
     "name": "stdout",
     "output_type": "stream",
     "text": [
      "# # #\n",
      "# # # #\n",
      "# # #\n",
      "##\n"
     ]
    }
   ],
   "source": [
    "\n",
    "for i in range(1, 5):\n",
    "    if i == 1 or i == 3:\n",
    "        print(\"# # #\")\n",
    "    elif i==2:\n",
    "        print(\"# # # #\")\n",
    "    else:\n",
    "        print(\"##\")\n",
    "     "
   ]
  },
  {
   "cell_type": "code",
   "execution_count": 2,
   "id": "9d15c4cf",
   "metadata": {},
   "outputs": [
    {
     "name": "stdout",
     "output_type": "stream",
     "text": [
      "# # #\n",
      "# # # #\n",
      "# # #\n",
      "##\n"
     ]
    }
   ],
   "source": [
    "i=1\n",
    "while i<5:\n",
    "  if i == 1 or i == 3:\n",
    "        print(\"# # #\")\n",
    "  elif i==2:\n",
    "        print(\"# # # #\")\n",
    "  else:\n",
    "        print(\"##\")\n",
    "  i=i+1"
   ]
  },
  {
   "cell_type": "code",
   "execution_count": null,
   "id": "d9b85a96",
   "metadata": {},
   "outputs": [],
   "source": []
  }
 ],
 "metadata": {
  "kernelspec": {
   "display_name": "Python 3 (ipykernel)",
   "language": "python",
   "name": "python3"
  },
  "language_info": {
   "codemirror_mode": {
    "name": "ipython",
    "version": 3
   },
   "file_extension": ".py",
   "mimetype": "text/x-python",
   "name": "python",
   "nbconvert_exporter": "python",
   "pygments_lexer": "ipython3",
   "version": "3.10.9"
  }
 },
 "nbformat": 4,
 "nbformat_minor": 5
}
