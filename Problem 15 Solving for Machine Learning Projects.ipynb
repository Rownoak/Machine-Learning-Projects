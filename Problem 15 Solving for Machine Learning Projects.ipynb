{
 "cells": [
  {
   "cell_type": "code",
   "execution_count": null,
   "id": "e714d4f4",
   "metadata": {},
   "outputs": [],
   "source": [
    "#Rename the key of a dictionary. Dict = { \"name\": \"Shakil\", \"age\":27, \"city\": “Berlin”, \"country\": \"Germany\" } Write a program to rename a key ‘country’ to a ‘region’ in the following dictionary."
   ]
  },
  {
   "cell_type": "code",
   "execution_count": 1,
   "id": "33132733",
   "metadata": {},
   "outputs": [
    {
     "name": "stdout",
     "output_type": "stream",
     "text": [
      "Original Dictionary: {'name': 'Shakil', 'age': 27, 'city': 'Berlin', 'country': 'Germany'}\n",
      "Updated Dictionary: {'name': 'Shakil', 'age': 27, 'city': 'Berlin', 'region': 'Germany'}\n"
     ]
    }
   ],
   "source": [
    "Dict = { 'name': 'Shakil', 'age':27, 'city': 'Berlin', 'country': 'Germany' } \n",
    "\n",
    "print('Original Dictionary:', Dict)\n",
    "\n",
    "Dict['region']=Dict.pop('country')\n",
    "\n",
    "print(\"Updated Dictionary:\", Dict)"
   ]
  },
  {
   "cell_type": "code",
   "execution_count": null,
   "id": "136a8576",
   "metadata": {},
   "outputs": [],
   "source": []
  }
 ],
 "metadata": {
  "kernelspec": {
   "display_name": "Python 3 (ipykernel)",
   "language": "python",
   "name": "python3"
  },
  "language_info": {
   "codemirror_mode": {
    "name": "ipython",
    "version": 3
   },
   "file_extension": ".py",
   "mimetype": "text/x-python",
   "name": "python",
   "nbconvert_exporter": "python",
   "pygments_lexer": "ipython3",
   "version": "3.10.9"
  }
 },
 "nbformat": 4,
 "nbformat_minor": 5
}
