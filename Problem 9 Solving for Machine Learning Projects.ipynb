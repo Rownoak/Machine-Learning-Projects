{
 "cells": [
  {
   "cell_type": "code",
   "execution_count": null,
   "id": "e9262465",
   "metadata": {},
   "outputs": [],
   "source": [
    "# Reverse a given integer number 27956240710."
   ]
  },
  {
   "cell_type": "code",
   "execution_count": 1,
   "id": "88444019",
   "metadata": {},
   "outputs": [
    {
     "name": "stdout",
     "output_type": "stream",
     "text": [
      "The reversed number is: 1704265972\n"
     ]
    }
   ],
   "source": [
    "num=27956240710\n",
    "# Convert number to string, reverse it using slicing, and convert back to int\n",
    "reverse_num= int(str(num)[::-1])\n",
    "print('The reversed number is:', reverse_num)\n"
   ]
  },
  {
   "cell_type": "code",
   "execution_count": null,
   "id": "52f5b4f7",
   "metadata": {},
   "outputs": [],
   "source": []
  }
 ],
 "metadata": {
  "kernelspec": {
   "display_name": "Python 3 (ipykernel)",
   "language": "python",
   "name": "python3"
  },
  "language_info": {
   "codemirror_mode": {
    "name": "ipython",
    "version": 3
   },
   "file_extension": ".py",
   "mimetype": "text/x-python",
   "name": "python",
   "nbconvert_exporter": "python",
   "pygments_lexer": "ipython3",
   "version": "3.10.9"
  }
 },
 "nbformat": 4,
 "nbformat_minor": 5
}
